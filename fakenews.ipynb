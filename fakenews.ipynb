{
 "cells": [
  {
   "attachments": {},
   "cell_type": "markdown",
   "id": "37f67365",
   "metadata": {},
   "source": [
    "Importing essential packages"
   ]
  },
  {
   "cell_type": "code",
   "execution_count": 4,
   "id": "c428c5e1",
   "metadata": {},
   "outputs": [],
   "source": [
    "# importing essential packages\n",
    "import pandas as pd\n",
    "import re\n",
    "from nltk.corpus import stopwords\n",
    "from nltk.stem.porter import PorterStemmer\n",
    "from sklearn.feature_extraction.text import TfidfVectorizer\n",
    "from sklearn.model_selection import train_test_split\n",
    "from sklearn.linear_model import LogisticRegression\n",
    "from sklearn.metrics import accuracy_score"
   ]
  },
  {
   "attachments": {},
   "cell_type": "markdown",
   "id": "29f16714",
   "metadata": {},
   "source": [
    "Loading the dataset into a pandas dataframe"
   ]
  },
  {
   "cell_type": "code",
   "execution_count": 5,
   "id": "2b760355",
   "metadata": {},
   "outputs": [
    {
     "name": "stdout",
     "output_type": "stream",
     "text": [
      "   id                                              title              author  \\\n",
      "0   0  House Dem Aide: We Didn’t Even See Comey’s Let...       Darrell Lucus   \n",
      "1   1  FLYNN: Hillary Clinton, Big Woman on Campus - ...     Daniel J. Flynn   \n",
      "2   2                  Why the Truth Might Get You Fired  Consortiumnews.com   \n",
      "3   3  15 Civilians Killed In Single US Airstrike Hav...     Jessica Purkiss   \n",
      "4   4  Iranian woman jailed for fictional unpublished...      Howard Portnoy   \n",
      "\n",
      "                                                text  label  \n",
      "0  House Dem Aide: We Didn’t Even See Comey’s Let...      1  \n",
      "1  Ever get the feeling your life circles the rou...      0  \n",
      "2  Why the Truth Might Get You Fired October 29, ...      1  \n",
      "3  Videos 15 Civilians Killed In Single US Airstr...      1  \n",
      "4  Print \\nAn Iranian woman has been sentenced to...      1  \n"
     ]
    }
   ],
   "source": [
    "\n",
    "ds = pd.read_csv(\"train.csv\")\n",
    "print(ds.head())"
   ]
  },
  {
   "attachments": {},
   "cell_type": "markdown",
   "id": "9ef2f3ed",
   "metadata": {},
   "source": [
    "checking the missing values in our dataset and replacing them with an empty string"
   ]
  },
  {
   "cell_type": "code",
   "execution_count": 6,
   "id": "e1b7b0b1",
   "metadata": {},
   "outputs": [
    {
     "name": "stdout",
     "output_type": "stream",
     "text": [
      "id           0\n",
      "title      558\n",
      "author    1957\n",
      "text        39\n",
      "label        0\n",
      "dtype: int64\n",
      "   id                                              title              author  \\\n",
      "0   0  House Dem Aide: We Didn’t Even See Comey’s Let...       Darrell Lucus   \n",
      "1   1  FLYNN: Hillary Clinton, Big Woman on Campus - ...     Daniel J. Flynn   \n",
      "2   2                  Why the Truth Might Get You Fired  Consortiumnews.com   \n",
      "3   3  15 Civilians Killed In Single US Airstrike Hav...     Jessica Purkiss   \n",
      "4   4  Iranian woman jailed for fictional unpublished...      Howard Portnoy   \n",
      "\n",
      "                                                text  label  \n",
      "0  House Dem Aide: We Didn’t Even See Comey’s Let...      1  \n",
      "1  Ever get the feeling your life circles the rou...      0  \n",
      "2  Why the Truth Might Get You Fired October 29, ...      1  \n",
      "3  Videos 15 Civilians Killed In Single US Airstr...      1  \n",
      "4  Print \\nAn Iranian woman has been sentenced to...      1  \n"
     ]
    }
   ],
   "source": [
    "\n",
    "print(ds.isnull().sum())\n",
    "ds = ds.fillna('')\n",
    "print(ds.head())"
   ]
  },
  {
   "attachments": {},
   "cell_type": "markdown",
   "id": "6faab5d3",
   "metadata": {},
   "source": [
    " Merging the author and title column as content"
   ]
  },
  {
   "cell_type": "code",
   "execution_count": 7,
   "id": "5e1743f4",
   "metadata": {},
   "outputs": [
    {
     "name": "stdout",
     "output_type": "stream",
     "text": [
      "0    Darrell Lucus House Dem Aide: We Didn’t Even S...\n",
      "1    Daniel J. Flynn FLYNN: Hillary Clinton, Big Wo...\n",
      "2    Consortiumnews.com Why the Truth Might Get You...\n",
      "3    Jessica Purkiss 15 Civilians Killed In Single ...\n",
      "4    Howard Portnoy Iranian woman jailed for fictio...\n",
      "Name: content, dtype: object\n"
     ]
    }
   ],
   "source": [
    "\n",
    "ds['content'] = ds['author'] + ' ' + ds['title']\n",
    "print(ds['content'].head())"
   ]
  },
  {
   "attachments": {},
   "cell_type": "markdown",
   "id": "38e94358",
   "metadata": {},
   "source": [
    "Performing stemming on the content"
   ]
  },
  {
   "cell_type": "code",
   "execution_count": 8,
   "id": "5a3a1597",
   "metadata": {},
   "outputs": [],
   "source": [
    "\n",
    "port_stem = PorterStemmer()"
   ]
  },
  {
   "cell_type": "code",
   "execution_count": 9,
   "id": "78082a6d",
   "metadata": {},
   "outputs": [],
   "source": [
    "def stemming(content):\n",
    "    stemmed_cont = re.sub('[^a-zA-Z]', ' ', content)\n",
    "    stemmed_cont = stemmed_cont.lower()\n",
    "    stemmed_cont = stemmed_cont.split()\n",
    "    stemmed_cont = [port_stem.stem(word) for word in stemmed_cont if word not in stopwords.words('english')]\n",
    "    stemmed_cont = \" \".join(stemmed_cont)\n",
    "    return stemmed_cont"
   ]
  },
  {
   "cell_type": "code",
   "execution_count": 10,
   "id": "d591a998",
   "metadata": {},
   "outputs": [
    {
     "name": "stdout",
     "output_type": "stream",
     "text": [
      "0        darrel lucu hous dem aid even see comey letter...\n",
      "1        daniel j flynn flynn hillari clinton big woman...\n",
      "2                   consortiumnew com truth might get fire\n",
      "3        jessica purkiss civilian kill singl us airstri...\n",
      "4        howard portnoy iranian woman jail fiction unpu...\n",
      "                               ...                        \n",
      "20795    jerom hudson rapper trump poster child white s...\n",
      "20796    benjamin hoffman n f l playoff schedul matchup...\n",
      "20797    michael j de la merc rachel abram maci said re...\n",
      "20798    alex ansari nato russia hold parallel exercis ...\n",
      "20799                            david swanson keep f aliv\n",
      "Name: content, Length: 20800, dtype: object\n"
     ]
    }
   ],
   "source": [
    "ds['content'] = ds['content'].apply(stemming)\n",
    "print(ds['content'])"
   ]
  },
  {
   "attachments": {},
   "cell_type": "markdown",
   "id": "62fd930e",
   "metadata": {},
   "source": [
    "storing the data in x and y from training the model. we will be using content and labels to train our model"
   ]
  },
  {
   "cell_type": "code",
   "execution_count": 17,
   "id": "b1b61b89",
   "metadata": {},
   "outputs": [
    {
     "name": "stdout",
     "output_type": "stream",
     "text": [
      "0        darrel lucu hous dem aid even see comey letter...\n",
      "1        daniel j flynn flynn hillari clinton big woman...\n",
      "2                   consortiumnew com truth might get fire\n",
      "3        jessica purkiss civilian kill singl us airstri...\n",
      "4        howard portnoy iranian woman jail fiction unpu...\n",
      "                               ...                        \n",
      "20795    jerom hudson rapper trump poster child white s...\n",
      "20796    benjamin hoffman n f l playoff schedul matchup...\n",
      "20797    michael j de la merc rachel abram maci said re...\n",
      "20798    alex ansari nato russia hold parallel exercis ...\n",
      "20799                            david swanson keep f aliv\n",
      "Name: content, Length: 20800, dtype: object\n",
      "0        1\n",
      "1        0\n",
      "2        1\n",
      "3        1\n",
      "4        1\n",
      "        ..\n",
      "20795    0\n",
      "20796    0\n",
      "20797    0\n",
      "20798    1\n",
      "20799    1\n",
      "Name: label, Length: 20800, dtype: int64\n"
     ]
    }
   ],
   "source": [
    "\n",
    "x = ds['content']\n",
    "y = ds['label']\n",
    "print(x)\n",
    "print(y)"
   ]
  },
  {
   "attachments": {},
   "cell_type": "markdown",
   "id": "8dd45cde",
   "metadata": {},
   "source": [
    "Performing feature vectorization to convert textual data to numerical data"
   ]
  },
  {
   "cell_type": "code",
   "execution_count": 18,
   "id": "c3f88081",
   "metadata": {},
   "outputs": [],
   "source": [
    "\n",
    "vectorizer = TfidfVectorizer()\n",
    "vectorizer.fit(x)\n",
    "x = vectorizer.transform(x)"
   ]
  },
  {
   "attachments": {},
   "cell_type": "markdown",
   "id": "0b8b6b70",
   "metadata": {},
   "source": [
    "creating the training and test data"
   ]
  },
  {
   "cell_type": "code",
   "execution_count": 19,
   "id": "bdc94220",
   "metadata": {},
   "outputs": [],
   "source": [
    "\n",
    "x_train, x_test, y_train, y_test = train_test_split(x, y, test_size=0.2, stratify=y, random_state=2)"
   ]
  },
  {
   "attachments": {},
   "cell_type": "markdown",
   "id": "d24c63c0",
   "metadata": {},
   "source": [
    "Implementing the Logistic Regression model"
   ]
  },
  {
   "cell_type": "code",
   "execution_count": 20,
   "id": "9f383b2d",
   "metadata": {},
   "outputs": [
    {
     "data": {
      "text/plain": [
       "LogisticRegression()"
      ]
     },
     "execution_count": 20,
     "metadata": {},
     "output_type": "execute_result"
    }
   ],
   "source": [
    "\n",
    "model = LogisticRegression()\n",
    "model.fit(x_train, y_train)"
   ]
  },
  {
   "attachments": {},
   "cell_type": "markdown",
   "id": "d825b41c",
   "metadata": {},
   "source": [
    "Finding the accuracy score of our model on training data"
   ]
  },
  {
   "cell_type": "code",
   "execution_count": 21,
   "id": "73a5e879",
   "metadata": {},
   "outputs": [
    {
     "name": "stdout",
     "output_type": "stream",
     "text": [
      "0.9865985576923076 is the accuracy score of the training data\n"
     ]
    }
   ],
   "source": [
    "\n",
    "x_train_predict = model.predict(x_train)\n",
    "accuracy = accuracy_score(x_train_predict, y_train)\n",
    "print(accuracy, \"is the accuracy score of the training data\")"
   ]
  },
  {
   "attachments": {},
   "cell_type": "markdown",
   "id": "c338850a",
   "metadata": {},
   "source": [
    "Finding the accuracy score of our model on test data and making prediction on test data sing our model"
   ]
  },
  {
   "cell_type": "code",
   "execution_count": 22,
   "id": "1301f961",
   "metadata": {},
   "outputs": [
    {
     "name": "stdout",
     "output_type": "stream",
     "text": [
      "0.9790865384615385 is the accuracy score of the test data\n"
     ]
    }
   ],
   "source": [
    "\n",
    "x_test_predict = model.predict(x_test)\n",
    "accuracy = accuracy_score(x_test_predict, y_test)\n",
    "print(accuracy, \"is the accuracy score of the test data\")"
   ]
  },
  {
   "attachments": {},
   "cell_type": "markdown",
   "id": "473e0c9f",
   "metadata": {},
   "source": [
    "Predicting a news"
   ]
  },
  {
   "cell_type": "code",
   "execution_count": 26,
   "id": "d2d0c9be",
   "metadata": {},
   "outputs": [
    {
     "name": "stdout",
     "output_type": "stream",
     "text": [
      "This is a Real news\n"
     ]
    }
   ],
   "source": [
    "\n",
    "news = x_test[-1]\n",
    "prediction = model.predict(news)\n",
    "\n",
    "if prediction == 1:\n",
    "    print(\"This is a Fake news\")\n",
    "else:\n",
    "    print(\"This is a Real news\")\n"
   ]
  },
  {
   "cell_type": "code",
   "execution_count": null,
   "id": "06736b01",
   "metadata": {},
   "outputs": [],
   "source": []
  },
  {
   "cell_type": "code",
   "execution_count": null,
   "id": "9b24f699",
   "metadata": {},
   "outputs": [],
   "source": []
  },
  {
   "cell_type": "code",
   "execution_count": null,
   "id": "0902e5aa",
   "metadata": {},
   "outputs": [],
   "source": []
  }
 ],
 "metadata": {
  "kernelspec": {
   "display_name": "Python 3 (ipykernel)",
   "language": "python",
   "name": "python3"
  },
  "language_info": {
   "codemirror_mode": {
    "name": "ipython",
    "version": 3
   },
   "file_extension": ".py",
   "mimetype": "text/x-python",
   "name": "python",
   "nbconvert_exporter": "python",
   "pygments_lexer": "ipython3",
   "version": "3.9.13"
  }
 },
 "nbformat": 4,
 "nbformat_minor": 5
}
